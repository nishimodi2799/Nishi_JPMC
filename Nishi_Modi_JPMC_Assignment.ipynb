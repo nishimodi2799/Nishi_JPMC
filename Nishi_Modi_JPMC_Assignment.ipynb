{
  "nbformat": 4,
  "nbformat_minor": 0,
  "metadata": {
    "colab": {
      "provenance": []
    },
    "kernelspec": {
      "name": "python3",
      "display_name": "Python 3"
    },
    "language_info": {
      "name": "python"
    }
  },
  "cells": [
    {
      "cell_type": "markdown",
      "source": [
        "### Importing libraries"
      ],
      "metadata": {
        "id": "wfdHronBqU95"
      }
    },
    {
      "cell_type": "code",
      "execution_count": 1,
      "metadata": {
        "id": "vwf5xpVjqL3x"
      },
      "outputs": [],
      "source": [
        "import csv\n",
        "import pandas as pd\n",
        "from sklearn.model_selection import train_test_split\n",
        "from sklearn.compose import make_column_transformer\n",
        "from sklearn.preprocessing import StandardScaler\n",
        "#from category_encoders import TargetEncoder\n",
        "from sklearn.preprocessing import OneHotEncoder\n",
        "import sklearn\n",
        "import matplotlib.pyplot as plt\n",
        "import seaborn as sns\n",
        "import time\n",
        "from datetime import timedelta\n",
        "from scipy.special import boxcox1p\n",
        "from scipy import stats\n",
        "import numpy as np"
      ]
    },
    {
      "cell_type": "code",
      "source": [
        "import warnings\n",
        "warnings.simplefilter(action='ignore', category=FutureWarning)"
      ],
      "metadata": {
        "id": "zd0T7jvOqZZA"
      },
      "execution_count": 2,
      "outputs": []
    },
    {
      "cell_type": "code",
      "source": [
        "from google.colab import drive\n",
        "drive.mount('/content/drive')"
      ],
      "metadata": {
        "colab": {
          "base_uri": "https://localhost:8080/"
        },
        "id": "x21kmS1yqbsm",
        "outputId": "c2b144be-9ba1-4bac-f950-2b7a0f68bc9f"
      },
      "execution_count": 3,
      "outputs": [
        {
          "output_type": "stream",
          "name": "stdout",
          "text": [
            "Drive already mounted at /content/drive; to attempt to forcibly remount, call drive.mount(\"/content/drive\", force_remount=True).\n"
          ]
        }
      ]
    },
    {
      "cell_type": "code",
      "source": [
        "df = pd.read_csv('/content/drive/MyDrive/Nishi_JPMC_Data/data.txt', delimiter= \"|\", encoding = 'unicode_escape')\n",
        "# df.columns = []\n",
        "df.tail()"
      ],
      "metadata": {
        "id": "CHxwewByqbuo",
        "colab": {
          "base_uri": "https://localhost:8080/",
          "height": 206
        },
        "outputId": "c91b8815-fc1c-4c55-c28d-9678a2527a39"
      },
      "execution_count": 4,
      "outputs": [
        {
          "output_type": "execute_result",
          "data": {
            "text/plain": [
              "         variable value\n",
              "2165  2165        a    21\n",
              "2166  2166        a    23\n",
              "2167  2167        a    24\n",
              "2168  2168        a    21\n",
              "2169  2169        a    25"
            ],
            "text/html": [
              "\n",
              "  <div id=\"df-75919666-4c89-473e-bcf5-d641854cafd7\">\n",
              "    <div class=\"colab-df-container\">\n",
              "      <div>\n",
              "<style scoped>\n",
              "    .dataframe tbody tr th:only-of-type {\n",
              "        vertical-align: middle;\n",
              "    }\n",
              "\n",
              "    .dataframe tbody tr th {\n",
              "        vertical-align: top;\n",
              "    }\n",
              "\n",
              "    .dataframe thead th {\n",
              "        text-align: right;\n",
              "    }\n",
              "</style>\n",
              "<table border=\"1\" class=\"dataframe\">\n",
              "  <thead>\n",
              "    <tr style=\"text-align: right;\">\n",
              "      <th></th>\n",
              "      <th></th>\n",
              "      <th>variable</th>\n",
              "      <th>value</th>\n",
              "    </tr>\n",
              "  </thead>\n",
              "  <tbody>\n",
              "    <tr>\n",
              "      <th>2165</th>\n",
              "      <td>2165</td>\n",
              "      <td>a</td>\n",
              "      <td>21</td>\n",
              "    </tr>\n",
              "    <tr>\n",
              "      <th>2166</th>\n",
              "      <td>2166</td>\n",
              "      <td>a</td>\n",
              "      <td>23</td>\n",
              "    </tr>\n",
              "    <tr>\n",
              "      <th>2167</th>\n",
              "      <td>2167</td>\n",
              "      <td>a</td>\n",
              "      <td>24</td>\n",
              "    </tr>\n",
              "    <tr>\n",
              "      <th>2168</th>\n",
              "      <td>2168</td>\n",
              "      <td>a</td>\n",
              "      <td>21</td>\n",
              "    </tr>\n",
              "    <tr>\n",
              "      <th>2169</th>\n",
              "      <td>2169</td>\n",
              "      <td>a</td>\n",
              "      <td>25</td>\n",
              "    </tr>\n",
              "  </tbody>\n",
              "</table>\n",
              "</div>\n",
              "      <button class=\"colab-df-convert\" onclick=\"convertToInteractive('df-75919666-4c89-473e-bcf5-d641854cafd7')\"\n",
              "              title=\"Convert this dataframe to an interactive table.\"\n",
              "              style=\"display:none;\">\n",
              "        \n",
              "  <svg xmlns=\"http://www.w3.org/2000/svg\" height=\"24px\"viewBox=\"0 0 24 24\"\n",
              "       width=\"24px\">\n",
              "    <path d=\"M0 0h24v24H0V0z\" fill=\"none\"/>\n",
              "    <path d=\"M18.56 5.44l.94 2.06.94-2.06 2.06-.94-2.06-.94-.94-2.06-.94 2.06-2.06.94zm-11 1L8.5 8.5l.94-2.06 2.06-.94-2.06-.94L8.5 2.5l-.94 2.06-2.06.94zm10 10l.94 2.06.94-2.06 2.06-.94-2.06-.94-.94-2.06-.94 2.06-2.06.94z\"/><path d=\"M17.41 7.96l-1.37-1.37c-.4-.4-.92-.59-1.43-.59-.52 0-1.04.2-1.43.59L10.3 9.45l-7.72 7.72c-.78.78-.78 2.05 0 2.83L4 21.41c.39.39.9.59 1.41.59.51 0 1.02-.2 1.41-.59l7.78-7.78 2.81-2.81c.8-.78.8-2.07 0-2.86zM5.41 20L4 18.59l7.72-7.72 1.47 1.35L5.41 20z\"/>\n",
              "  </svg>\n",
              "      </button>\n",
              "      \n",
              "  <style>\n",
              "    .colab-df-container {\n",
              "      display:flex;\n",
              "      flex-wrap:wrap;\n",
              "      gap: 12px;\n",
              "    }\n",
              "\n",
              "    .colab-df-convert {\n",
              "      background-color: #E8F0FE;\n",
              "      border: none;\n",
              "      border-radius: 50%;\n",
              "      cursor: pointer;\n",
              "      display: none;\n",
              "      fill: #1967D2;\n",
              "      height: 32px;\n",
              "      padding: 0 0 0 0;\n",
              "      width: 32px;\n",
              "    }\n",
              "\n",
              "    .colab-df-convert:hover {\n",
              "      background-color: #E2EBFA;\n",
              "      box-shadow: 0px 1px 2px rgba(60, 64, 67, 0.3), 0px 1px 3px 1px rgba(60, 64, 67, 0.15);\n",
              "      fill: #174EA6;\n",
              "    }\n",
              "\n",
              "    [theme=dark] .colab-df-convert {\n",
              "      background-color: #3B4455;\n",
              "      fill: #D2E3FC;\n",
              "    }\n",
              "\n",
              "    [theme=dark] .colab-df-convert:hover {\n",
              "      background-color: #434B5C;\n",
              "      box-shadow: 0px 1px 3px 1px rgba(0, 0, 0, 0.15);\n",
              "      filter: drop-shadow(0px 1px 2px rgba(0, 0, 0, 0.3));\n",
              "      fill: #FFFFFF;\n",
              "    }\n",
              "  </style>\n",
              "\n",
              "      <script>\n",
              "        const buttonEl =\n",
              "          document.querySelector('#df-75919666-4c89-473e-bcf5-d641854cafd7 button.colab-df-convert');\n",
              "        buttonEl.style.display =\n",
              "          google.colab.kernel.accessAllowed ? 'block' : 'none';\n",
              "\n",
              "        async function convertToInteractive(key) {\n",
              "          const element = document.querySelector('#df-75919666-4c89-473e-bcf5-d641854cafd7');\n",
              "          const dataTable =\n",
              "            await google.colab.kernel.invokeFunction('convertToInteractive',\n",
              "                                                     [key], {});\n",
              "          if (!dataTable) return;\n",
              "\n",
              "          const docLinkHtml = 'Like what you see? Visit the ' +\n",
              "            '<a target=\"_blank\" href=https://colab.research.google.com/notebooks/data_table.ipynb>data table notebook</a>'\n",
              "            + ' to learn more about interactive tables.';\n",
              "          element.innerHTML = '';\n",
              "          dataTable['output_type'] = 'display_data';\n",
              "          await google.colab.output.renderOutput(dataTable, element);\n",
              "          const docLink = document.createElement('div');\n",
              "          docLink.innerHTML = docLinkHtml;\n",
              "          element.appendChild(docLink);\n",
              "        }\n",
              "      </script>\n",
              "    </div>\n",
              "  </div>\n",
              "  "
            ]
          },
          "metadata": {},
          "execution_count": 4
        }
      ]
    },
    {
      "cell_type": "code",
      "source": [
        "df.variable.value_counts()"
      ],
      "metadata": {
        "colab": {
          "base_uri": "https://localhost:8080/"
        },
        "id": "FtGvfjh3HMlG",
        "outputId": "441fa7f4-8e80-4fb2-a99b-a75c0171bbb8"
      },
      "execution_count": 5,
      "outputs": [
        {
          "output_type": "execute_result",
          "data": {
            "text/plain": [
              "score    434\n",
              "h        434\n",
              "i        434\n",
              "w        434\n",
              "a        434\n",
              "Name: variable, dtype: int64"
            ]
          },
          "metadata": {},
          "execution_count": 5
        }
      ]
    },
    {
      "cell_type": "code",
      "source": [
        "# Renaming Columns\n",
        "vars = df.variable.unique().tolist()\n",
        "vars"
      ],
      "metadata": {
        "id": "EQg4ZgVhqbwx",
        "colab": {
          "base_uri": "https://localhost:8080/"
        },
        "outputId": "a723e177-6c73-48b3-f1f7-2dabce4065a5"
      },
      "execution_count": 6,
      "outputs": [
        {
          "output_type": "execute_result",
          "data": {
            "text/plain": [
              "['score', 'h', 'i', 'w', 'a']"
            ]
          },
          "metadata": {},
          "execution_count": 6
        }
      ]
    },
    {
      "cell_type": "code",
      "source": [
        "df_final = pd.DataFrame(columns = ['mother_iq', 'age', 'completed_school', 'mother_worked', 'child_iq'], index=range(434))"
      ],
      "metadata": {
        "id": "gkfLgukiyO6k"
      },
      "execution_count": 7,
      "outputs": []
    },
    {
      "cell_type": "code",
      "source": [
        "# code to convert data from loing format to wide format\n",
        "\n",
        "cnt_score, cnt_h, cnt_i, cnt_w, cnt_a = 0,0,0,0,0\n",
        "\n",
        "for i in range(df.shape[0]):\n",
        "\n",
        "  if df.iloc[i,1] == 'score':\n",
        "    df_final.iloc[cnt_score,4] = df.iloc[i,2]\n",
        "    cnt_score +=1\n",
        "  \n",
        "  elif df.iloc[i,1] == 'h':\n",
        "    df_final.iloc[cnt_h,2] = df.iloc[i,2]\n",
        "    cnt_h +=1\n",
        "\n",
        "  elif df.iloc[i,1] == 'i':\n",
        "    df_final.iloc[cnt_i,0] = df.iloc[i,2]\n",
        "    cnt_i +=1\n",
        "\n",
        "  elif df.iloc[i,1] == 'w':\n",
        "    df_final.iloc[cnt_w,3] = df.iloc[i,2]\n",
        "    cnt_w +=1\n",
        "  \n",
        "  elif df.iloc[i,1] == 'a':\n",
        "    df_final.iloc[cnt_a,1] = df.iloc[i,2]\n",
        "    cnt_a +=1\n",
        "\n",
        "df_final['mother_iq'].replace(regex=True,inplace=True, to_replace=r\"'\",value=r'')\n",
        "df_final[['age', 'completed_school', 'mother_worked', 'child_iq']] = df_final[['age', 'completed_school', 'mother_worked', 'child_iq']].astype(int)\n",
        "df_final[['mother_iq']] = df_final[['mother_iq']].astype(float)\n",
        "df_final.head()"
      ],
      "metadata": {
        "id": "TEYJ7FJxqb05",
        "colab": {
          "base_uri": "https://localhost:8080/",
          "height": 206
        },
        "outputId": "81e602be-5a97-4a2d-b654-6bafbe7ca853"
      },
      "execution_count": 8,
      "outputs": [
        {
          "output_type": "execute_result",
          "data": {
            "text/plain": [
              "    mother_iq  age  completed_school  mother_worked  child_iq\n",
              "0  121.117529   27                 1              4        65\n",
              "1   89.361882   25                 1              4        98\n",
              "2  115.443165   27                 1              4        85\n",
              "3   99.449639   25                 1              3        83\n",
              "4   92.745710   27                 1              4       115"
            ],
            "text/html": [
              "\n",
              "  <div id=\"df-b93af9cf-f8e3-4657-84ef-99fb3c4fe6eb\">\n",
              "    <div class=\"colab-df-container\">\n",
              "      <div>\n",
              "<style scoped>\n",
              "    .dataframe tbody tr th:only-of-type {\n",
              "        vertical-align: middle;\n",
              "    }\n",
              "\n",
              "    .dataframe tbody tr th {\n",
              "        vertical-align: top;\n",
              "    }\n",
              "\n",
              "    .dataframe thead th {\n",
              "        text-align: right;\n",
              "    }\n",
              "</style>\n",
              "<table border=\"1\" class=\"dataframe\">\n",
              "  <thead>\n",
              "    <tr style=\"text-align: right;\">\n",
              "      <th></th>\n",
              "      <th>mother_iq</th>\n",
              "      <th>age</th>\n",
              "      <th>completed_school</th>\n",
              "      <th>mother_worked</th>\n",
              "      <th>child_iq</th>\n",
              "    </tr>\n",
              "  </thead>\n",
              "  <tbody>\n",
              "    <tr>\n",
              "      <th>0</th>\n",
              "      <td>121.117529</td>\n",
              "      <td>27</td>\n",
              "      <td>1</td>\n",
              "      <td>4</td>\n",
              "      <td>65</td>\n",
              "    </tr>\n",
              "    <tr>\n",
              "      <th>1</th>\n",
              "      <td>89.361882</td>\n",
              "      <td>25</td>\n",
              "      <td>1</td>\n",
              "      <td>4</td>\n",
              "      <td>98</td>\n",
              "    </tr>\n",
              "    <tr>\n",
              "      <th>2</th>\n",
              "      <td>115.443165</td>\n",
              "      <td>27</td>\n",
              "      <td>1</td>\n",
              "      <td>4</td>\n",
              "      <td>85</td>\n",
              "    </tr>\n",
              "    <tr>\n",
              "      <th>3</th>\n",
              "      <td>99.449639</td>\n",
              "      <td>25</td>\n",
              "      <td>1</td>\n",
              "      <td>3</td>\n",
              "      <td>83</td>\n",
              "    </tr>\n",
              "    <tr>\n",
              "      <th>4</th>\n",
              "      <td>92.745710</td>\n",
              "      <td>27</td>\n",
              "      <td>1</td>\n",
              "      <td>4</td>\n",
              "      <td>115</td>\n",
              "    </tr>\n",
              "  </tbody>\n",
              "</table>\n",
              "</div>\n",
              "      <button class=\"colab-df-convert\" onclick=\"convertToInteractive('df-b93af9cf-f8e3-4657-84ef-99fb3c4fe6eb')\"\n",
              "              title=\"Convert this dataframe to an interactive table.\"\n",
              "              style=\"display:none;\">\n",
              "        \n",
              "  <svg xmlns=\"http://www.w3.org/2000/svg\" height=\"24px\"viewBox=\"0 0 24 24\"\n",
              "       width=\"24px\">\n",
              "    <path d=\"M0 0h24v24H0V0z\" fill=\"none\"/>\n",
              "    <path d=\"M18.56 5.44l.94 2.06.94-2.06 2.06-.94-2.06-.94-.94-2.06-.94 2.06-2.06.94zm-11 1L8.5 8.5l.94-2.06 2.06-.94-2.06-.94L8.5 2.5l-.94 2.06-2.06.94zm10 10l.94 2.06.94-2.06 2.06-.94-2.06-.94-.94-2.06-.94 2.06-2.06.94z\"/><path d=\"M17.41 7.96l-1.37-1.37c-.4-.4-.92-.59-1.43-.59-.52 0-1.04.2-1.43.59L10.3 9.45l-7.72 7.72c-.78.78-.78 2.05 0 2.83L4 21.41c.39.39.9.59 1.41.59.51 0 1.02-.2 1.41-.59l7.78-7.78 2.81-2.81c.8-.78.8-2.07 0-2.86zM5.41 20L4 18.59l7.72-7.72 1.47 1.35L5.41 20z\"/>\n",
              "  </svg>\n",
              "      </button>\n",
              "      \n",
              "  <style>\n",
              "    .colab-df-container {\n",
              "      display:flex;\n",
              "      flex-wrap:wrap;\n",
              "      gap: 12px;\n",
              "    }\n",
              "\n",
              "    .colab-df-convert {\n",
              "      background-color: #E8F0FE;\n",
              "      border: none;\n",
              "      border-radius: 50%;\n",
              "      cursor: pointer;\n",
              "      display: none;\n",
              "      fill: #1967D2;\n",
              "      height: 32px;\n",
              "      padding: 0 0 0 0;\n",
              "      width: 32px;\n",
              "    }\n",
              "\n",
              "    .colab-df-convert:hover {\n",
              "      background-color: #E2EBFA;\n",
              "      box-shadow: 0px 1px 2px rgba(60, 64, 67, 0.3), 0px 1px 3px 1px rgba(60, 64, 67, 0.15);\n",
              "      fill: #174EA6;\n",
              "    }\n",
              "\n",
              "    [theme=dark] .colab-df-convert {\n",
              "      background-color: #3B4455;\n",
              "      fill: #D2E3FC;\n",
              "    }\n",
              "\n",
              "    [theme=dark] .colab-df-convert:hover {\n",
              "      background-color: #434B5C;\n",
              "      box-shadow: 0px 1px 3px 1px rgba(0, 0, 0, 0.15);\n",
              "      filter: drop-shadow(0px 1px 2px rgba(0, 0, 0, 0.3));\n",
              "      fill: #FFFFFF;\n",
              "    }\n",
              "  </style>\n",
              "\n",
              "      <script>\n",
              "        const buttonEl =\n",
              "          document.querySelector('#df-b93af9cf-f8e3-4657-84ef-99fb3c4fe6eb button.colab-df-convert');\n",
              "        buttonEl.style.display =\n",
              "          google.colab.kernel.accessAllowed ? 'block' : 'none';\n",
              "\n",
              "        async function convertToInteractive(key) {\n",
              "          const element = document.querySelector('#df-b93af9cf-f8e3-4657-84ef-99fb3c4fe6eb');\n",
              "          const dataTable =\n",
              "            await google.colab.kernel.invokeFunction('convertToInteractive',\n",
              "                                                     [key], {});\n",
              "          if (!dataTable) return;\n",
              "\n",
              "          const docLinkHtml = 'Like what you see? Visit the ' +\n",
              "            '<a target=\"_blank\" href=https://colab.research.google.com/notebooks/data_table.ipynb>data table notebook</a>'\n",
              "            + ' to learn more about interactive tables.';\n",
              "          element.innerHTML = '';\n",
              "          dataTable['output_type'] = 'display_data';\n",
              "          await google.colab.output.renderOutput(dataTable, element);\n",
              "          const docLink = document.createElement('div');\n",
              "          docLink.innerHTML = docLinkHtml;\n",
              "          element.appendChild(docLink);\n",
              "        }\n",
              "      </script>\n",
              "    </div>\n",
              "  </div>\n",
              "  "
            ]
          },
          "metadata": {},
          "execution_count": 8
        }
      ]
    },
    {
      "cell_type": "code",
      "source": [
        "df_final.columns"
      ],
      "metadata": {
        "colab": {
          "base_uri": "https://localhost:8080/"
        },
        "id": "zj-_-WntIlqn",
        "outputId": "151ed38b-a867-4515-a858-9893da90bbda"
      },
      "execution_count": 9,
      "outputs": [
        {
          "output_type": "execute_result",
          "data": {
            "text/plain": [
              "Index(['mother_iq', 'age', 'completed_school', 'mother_worked', 'child_iq'], dtype='object')"
            ]
          },
          "metadata": {},
          "execution_count": 9
        }
      ]
    },
    {
      "cell_type": "code",
      "source": [
        "df_final.dtypes"
      ],
      "metadata": {
        "colab": {
          "base_uri": "https://localhost:8080/"
        },
        "id": "dZlNMLCLHrG7",
        "outputId": "f7093bb2-92b8-4a0d-cc2c-510100033860"
      },
      "execution_count": 10,
      "outputs": [
        {
          "output_type": "execute_result",
          "data": {
            "text/plain": [
              "mother_iq           float64\n",
              "age                   int64\n",
              "completed_school      int64\n",
              "mother_worked         int64\n",
              "child_iq              int64\n",
              "dtype: object"
            ]
          },
          "metadata": {},
          "execution_count": 10
        }
      ]
    },
    {
      "cell_type": "code",
      "source": [
        "df_final.isnull().sum()"
      ],
      "metadata": {
        "colab": {
          "base_uri": "https://localhost:8080/"
        },
        "id": "L4bXcPJNQNSc",
        "outputId": "b47b5c3f-dbb6-4417-b7ad-4dbf59fc8723"
      },
      "execution_count": 11,
      "outputs": [
        {
          "output_type": "execute_result",
          "data": {
            "text/plain": [
              "mother_iq           0\n",
              "age                 0\n",
              "completed_school    0\n",
              "mother_worked       0\n",
              "child_iq            0\n",
              "dtype: int64"
            ]
          },
          "metadata": {},
          "execution_count": 11
        }
      ]
    },
    {
      "cell_type": "markdown",
      "source": [
        "### EDA"
      ],
      "metadata": {
        "id": "HVRcFbkeeR-o"
      }
    },
    {
      "cell_type": "code",
      "source": [
        "# checking target variable\n",
        "\n",
        "plt.hist(df_final.child_iq, bins=10, ec=\"black\", alpha=0.8)\n",
        "plt.xlabel('Child IQ Score')\n",
        "plt.ylabel('Count')\n",
        "plt.title('Histogram of Child IQ Score', fontsize = 14)\n",
        "plt.grid('both', linestyle='dashed', alpha=0.2)\n",
        "plt.show() "
      ],
      "metadata": {
        "colab": {
          "base_uri": "https://localhost:8080/",
          "height": 296
        },
        "id": "6ywC_TQhQNUr",
        "outputId": "f85d8f94-7af4-46c3-e15e-561e65e6abcf"
      },
      "execution_count": 12,
      "outputs": [
        {
          "output_type": "display_data",
          "data": {
            "text/plain": [
              "<Figure size 432x288 with 1 Axes>"
            ],
            "image/png": "[encoded data removed]"
          },
          "metadata": {
            "needs_background": "light"
          }
        }
      ]
    },
    {
      "cell_type": "code",
      "source": [
        "# checking log of target variable\n",
        "df_final['log_child_iq'] = np.log(df_final.child_iq)\n",
        "plt.hist(np.log(df_final.child_iq), bins=10, ec=\"black\", alpha=0.8)\n",
        "plt.xlabel('Child IQ Score')\n",
        "plt.ylabel('Count')\n",
        "plt.title('Histogram of Log of Child IQ Score', fontsize = 14)\n",
        "plt.grid('both', linestyle='dashed', alpha=0.2)\n",
        "plt.show() "
      ],
      "metadata": {
        "colab": {
          "base_uri": "https://localhost:8080/",
          "height": 296
        },
        "id": "7wgSLlUVQkaS",
        "outputId": "4fda3c97-ce46-47c7-a5f4-12f4c2be344b"
      },
      "execution_count": 13,
      "outputs": [
        {
          "output_type": "display_data",
          "data": {
            "text/plain": [
              "<Figure size 432x288 with 1 Axes>"
            ],
            "image/png": "[encoded data removed]"
          },
          "metadata": {
            "needs_background": "light"
          }
        }
      ]
    },
    {
      "cell_type": "code",
      "source": [
        "# checking box cox transformation of target variable\n",
        "\n",
        "df_final['bc_child_iq'] = stats.boxcox(df_final['child_iq'])[0]\n",
        "\n",
        "plt.hist(df_final.bc_child_iq, bins=15, ec=\"black\", alpha=0.8)\n",
        "plt.xlabel('Child IQ Score')\n",
        "plt.ylabel('Count')\n",
        "plt.title('Histogram of Box Cox Transformed Child IQ Score', fontsize = 14)\n",
        "plt.grid('both', linestyle='dashed', alpha=0.2)\n",
        "plt.show() "
      ],
      "metadata": {
        "colab": {
          "base_uri": "https://localhost:8080/",
          "height": 296
        },
        "id": "9nPBxBpNQp_n",
        "outputId": "1b160109-a65d-462e-d7cf-3b217e06c6c2"
      },
      "execution_count": 14,
      "outputs": [
        {
          "output_type": "display_data",
          "data": {
            "text/plain": [
              "<Figure size 432x288 with 1 Axes>"
            ],
            "image/png": "[encoded data removed]"
          },
          "metadata": {
            "needs_background": "light"
          }
        }
      ]
    },
    {
      "cell_type": "code",
      "source": [
        "df_final['age_*_mother_iq'] = df_final['age']*df_final['mother_iq']"
      ],
      "metadata": {
        "id": "U3lbqV_Xn8EO"
      },
      "execution_count": 15,
      "outputs": []
    },
    {
      "cell_type": "code",
      "source": [
        "num_features = ['mother_iq', 'age', 'completed_school']\n",
        "ohe_features = ['mother_worked']\n",
        "\n",
        "all_features = num_features + ohe_features\n",
        "all_features"
      ],
      "metadata": {
        "colab": {
          "base_uri": "https://localhost:8080/"
        },
        "id": "bAv30_pSSwV-",
        "outputId": "84228d3f-41bf-4010-b697-861536ce7104"
      },
      "execution_count": 16,
      "outputs": [
        {
          "output_type": "execute_result",
          "data": {
            "text/plain": [
              "['mother_iq', 'age', 'completed_school', 'mother_worked']"
            ]
          },
          "metadata": {},
          "execution_count": 16
        }
      ]
    },
    {
      "cell_type": "code",
      "source": [
        "### Your code here\n",
        "fig, ax = plt.subplots(2, 2, figsize = (15,10))\n",
        "for col, subplot in zip(all_features, ax.flatten()):\n",
        "    if col == 'mother_iq':\n",
        "      sns.scatterplot(x=col, y=df_final['child_iq'], data = df_final[all_features] , ax= subplot)\n",
        "    else:\n",
        "      sns.boxplot(x=col, y=df_final['child_iq'], data = df_final[all_features] , ax= subplot)\n",
        "plt.show(fig)"
      ],
      "metadata": {
        "colab": {
          "base_uri": "https://localhost:8080/",
          "height": 606
        },
        "id": "tTpOlqPjQ65p",
        "outputId": "5f37f6b8-93fc-430c-d033-938aa223ec38"
      },
      "execution_count": 17,
      "outputs": [
        {
          "output_type": "display_data",
          "data": {
            "text/plain": [
              "<Figure size 1080x720 with 4 Axes>"
            ],
            "image/png": "[encoded data removed]"
          },
          "metadata": {
            "needs_background": "light"
          }
        }
      ]
    },
    {
      "cell_type": "markdown",
      "source": [
        "#### Analysis\n",
        "\n",
        "\n",
        "1.   The Child's IQ and mother's IQ follow an increasingly linear relationship. As expected, they have a +ve correlation of ~0.5.\n",
        "2.   Along with the hypothesis, if the mother has completed school, the Child's IQ will be higher.\n",
        "3.   Age doesn't seem to have any linear relationship with the Child's IQ. However, there is high variability in the Child's IQ score for children whose mother was 18 yrs at Child's birth.\n",
        "4.   There is no linear relationship between the mother's work history and the Child's IQ. Hence, will treat this variable as categorical."
      ],
      "metadata": {
        "id": "5rKa8XCFbPIG"
      }
    },
    {
      "cell_type": "markdown",
      "source": [
        "### Data Types\n",
        "\n",
        "\n",
        "\n",
        "*   Mother's iq - Numeric with Standard Scaling\n",
        "*   Age - Numeric with Standard Scaling\n",
        "*   Completed School - Categorical (already 1/0 Flag)\n",
        "*   Mother Work History - Categorical with One Hot Encoding ( I am not using ordinal encoding as the trend is monotonically increasing or deacreasing along different categories) \n",
        "\n"
      ],
      "metadata": {
        "id": "0h2Qx6GqdHJv"
      }
    },
    {
      "cell_type": "markdown",
      "source": [
        "### Correlation"
      ],
      "metadata": {
        "id": "B3yBMGZJhL5w"
      }
    },
    {
      "cell_type": "code",
      "source": [
        "from scipy import stats\n",
        "matrix = df_final[num_features + ['child_iq']].corr()\n",
        "round(matrix,2)"
      ],
      "metadata": {
        "colab": {
          "base_uri": "https://localhost:8080/",
          "height": 175
        },
        "id": "EjR0kn4XhP5M",
        "outputId": "f94a553e-64ee-4203-de3e-4442fc89e2e2"
      },
      "execution_count": 18,
      "outputs": [
        {
          "output_type": "execute_result",
          "data": {
            "text/plain": [
              "                  mother_iq   age  completed_school  child_iq\n",
              "mother_iq              1.00  0.09              0.28      0.45\n",
              "age                    0.09  1.00              0.21      0.09\n",
              "completed_school       0.28  0.21              1.00      0.24\n",
              "child_iq               0.45  0.09              0.24      1.00"
            ],
            "text/html": [
              "\n",
              "  <div id=\"df-39f5fb81-2a5e-4540-9c21-354ab4a19473\">\n",
              "    <div class=\"colab-df-container\">\n",
              "      <div>\n",
              "<style scoped>\n",
              "    .dataframe tbody tr th:only-of-type {\n",
              "        vertical-align: middle;\n",
              "    }\n",
              "\n",
              "    .dataframe tbody tr th {\n",
              "        vertical-align: top;\n",
              "    }\n",
              "\n",
              "    .dataframe thead th {\n",
              "        text-align: right;\n",
              "    }\n",
              "</style>\n",
              "<table border=\"1\" class=\"dataframe\">\n",
              "  <thead>\n",
              "    <tr style=\"text-align: right;\">\n",
              "      <th></th>\n",
              "      <th>mother_iq</th>\n",
              "      <th>age</th>\n",
              "      <th>completed_school</th>\n",
              "      <th>child_iq</th>\n",
              "    </tr>\n",
              "  </thead>\n",
              "  <tbody>\n",
              "    <tr>\n",
              "      <th>mother_iq</th>\n",
              "      <td>1.00</td>\n",
              "      <td>0.09</td>\n",
              "      <td>0.28</td>\n",
              "      <td>0.45</td>\n",
              "    </tr>\n",
              "    <tr>\n",
              "      <th>age</th>\n",
              "      <td>0.09</td>\n",
              "      <td>1.00</td>\n",
              "      <td>0.21</td>\n",
              "      <td>0.09</td>\n",
              "    </tr>\n",
              "    <tr>\n",
              "      <th>completed_school</th>\n",
              "      <td>0.28</td>\n",
              "      <td>0.21</td>\n",
              "      <td>1.00</td>\n",
              "      <td>0.24</td>\n",
              "    </tr>\n",
              "    <tr>\n",
              "      <th>child_iq</th>\n",
              "      <td>0.45</td>\n",
              "      <td>0.09</td>\n",
              "      <td>0.24</td>\n",
              "      <td>1.00</td>\n",
              "    </tr>\n",
              "  </tbody>\n",
              "</table>\n",
              "</div>\n",
              "      <button class=\"colab-df-convert\" onclick=\"convertToInteractive('df-39f5fb81-2a5e-4540-9c21-354ab4a19473')\"\n",
              "              title=\"Convert this dataframe to an interactive table.\"\n",
              "              style=\"display:none;\">\n",
              "        \n",
              "  <svg xmlns=\"http://www.w3.org/2000/svg\" height=\"24px\"viewBox=\"0 0 24 24\"\n",
              "       width=\"24px\">\n",
              "    <path d=\"M0 0h24v24H0V0z\" fill=\"none\"/>\n",
              "    <path d=\"M18.56 5.44l.94 2.06.94-2.06 2.06-.94-2.06-.94-.94-2.06-.94 2.06-2.06.94zm-11 1L8.5 8.5l.94-2.06 2.06-.94-2.06-.94L8.5 2.5l-.94 2.06-2.06.94zm10 10l.94 2.06.94-2.06 2.06-.94-2.06-.94-.94-2.06-.94 2.06-2.06.94z\"/><path d=\"M17.41 7.96l-1.37-1.37c-.4-.4-.92-.59-1.43-.59-.52 0-1.04.2-1.43.59L10.3 9.45l-7.72 7.72c-.78.78-.78 2.05 0 2.83L4 21.41c.39.39.9.59 1.41.59.51 0 1.02-.2 1.41-.59l7.78-7.78 2.81-2.81c.8-.78.8-2.07 0-2.86zM5.41 20L4 18.59l7.72-7.72 1.47 1.35L5.41 20z\"/>\n",
              "  </svg>\n",
              "      </button>\n",
              "      \n",
              "  <style>\n",
              "    .colab-df-container {\n",
              "      display:flex;\n",
              "      flex-wrap:wrap;\n",
              "      gap: 12px;\n",
              "    }\n",
              "\n",
              "    .colab-df-convert {\n",
              "      background-color: #E8F0FE;\n",
              "      border: none;\n",
              "      border-radius: 50%;\n",
              "      cursor: pointer;\n",
              "      display: none;\n",
              "      fill: #1967D2;\n",
              "      height: 32px;\n",
              "      padding: 0 0 0 0;\n",
              "      width: 32px;\n",
              "    }\n",
              "\n",
              "    .colab-df-convert:hover {\n",
              "      background-color: #E2EBFA;\n",
              "      box-shadow: 0px 1px 2px rgba(60, 64, 67, 0.3), 0px 1px 3px 1px rgba(60, 64, 67, 0.15);\n",
              "      fill: #174EA6;\n",
              "    }\n",
              "\n",
              "    [theme=dark] .colab-df-convert {\n",
              "      background-color: #3B4455;\n",
              "      fill: #D2E3FC;\n",
              "    }\n",
              "\n",
              "    [theme=dark] .colab-df-convert:hover {\n",
              "      background-color: #434B5C;\n",
              "      box-shadow: 0px 1px 3px 1px rgba(0, 0, 0, 0.15);\n",
              "      filter: drop-shadow(0px 1px 2px rgba(0, 0, 0, 0.3));\n",
              "      fill: #FFFFFF;\n",
              "    }\n",
              "  </style>\n",
              "\n",
              "      <script>\n",
              "        const buttonEl =\n",
              "          document.querySelector('#df-39f5fb81-2a5e-4540-9c21-354ab4a19473 button.colab-df-convert');\n",
              "        buttonEl.style.display =\n",
              "          google.colab.kernel.accessAllowed ? 'block' : 'none';\n",
              "\n",
              "        async function convertToInteractive(key) {\n",
              "          const element = document.querySelector('#df-39f5fb81-2a5e-4540-9c21-354ab4a19473');\n",
              "          const dataTable =\n",
              "            await google.colab.kernel.invokeFunction('convertToInteractive',\n",
              "                                                     [key], {});\n",
              "          if (!dataTable) return;\n",
              "\n",
              "          const docLinkHtml = 'Like what you see? Visit the ' +\n",
              "            '<a target=\"_blank\" href=https://colab.research.google.com/notebooks/data_table.ipynb>data table notebook</a>'\n",
              "            + ' to learn more about interactive tables.';\n",
              "          element.innerHTML = '';\n",
              "          dataTable['output_type'] = 'display_data';\n",
              "          await google.colab.output.renderOutput(dataTable, element);\n",
              "          const docLink = document.createElement('div');\n",
              "          docLink.innerHTML = docLinkHtml;\n",
              "          element.appendChild(docLink);\n",
              "        }\n",
              "      </script>\n",
              "    </div>\n",
              "  </div>\n",
              "  "
            ]
          },
          "metadata": {},
          "execution_count": 18
        }
      ]
    },
    {
      "cell_type": "code",
      "source": [
        "sns.heatmap(matrix)"
      ],
      "metadata": {
        "colab": {
          "base_uri": "https://localhost:8080/",
          "height": 288
        },
        "id": "nTiD4OvehkD-",
        "outputId": "8bc44ea4-d2d6-4b86-f8f4-c8548895be54"
      },
      "execution_count": 19,
      "outputs": [
        {
          "output_type": "execute_result",
          "data": {
            "text/plain": [
              "<matplotlib.axes._subplots.AxesSubplot at 0x7f9932456a30>"
            ]
          },
          "metadata": {},
          "execution_count": 19
        },
        {
          "output_type": "display_data",
          "data": {
            "text/plain": [
              "<Figure size 432x288 with 2 Axes>"
            ],
            "image/png": "[encoded data removed]"
          },
          "metadata": {
            "needs_background": "light"
          }
        }
      ]
    },
    {
      "cell_type": "code",
      "source": [
        "### Adding interaction term\n",
        "num_features.append('age_*_mother_iq')\n",
        "num_features\n",
        "\n",
        "all_features = num_features + ohe_features\n",
        "all_features"
      ],
      "metadata": {
        "colab": {
          "base_uri": "https://localhost:8080/"
        },
        "id": "kdJuChswpxO_",
        "outputId": "8ecda1f3-27aa-43e9-8a8e-6121cd09007e"
      },
      "execution_count": 20,
      "outputs": [
        {
          "output_type": "execute_result",
          "data": {
            "text/plain": [
              "['mother_iq', 'age', 'completed_school', 'age_*_mother_iq', 'mother_worked']"
            ]
          },
          "metadata": {},
          "execution_count": 20
        }
      ]
    },
    {
      "cell_type": "markdown",
      "source": [
        "### Data Split"
      ],
      "metadata": {
        "id": "iXqbaK7_fbnM"
      }
    },
    {
      "cell_type": "code",
      "source": [
        "import sklearn\n",
        "from sklearn.linear_model import LinearRegression\n",
        "from sklearn.pipeline import make_pipeline, FeatureUnion, Pipeline\n",
        "from sklearn.compose import make_column_transformer\n",
        "from sklearn.preprocessing import StandardScaler, OneHotEncoder\n",
        "from sklearn.model_selection import KFold, StratifiedKFold, cross_val_score, GridSearchCV, RandomizedSearchCV\n",
        "from sklearn.model_selection import train_test_split"
      ],
      "metadata": {
        "id": "bPpOY8rzUJBt"
      },
      "execution_count": 21,
      "outputs": []
    },
    {
      "cell_type": "code",
      "source": [
        "df_final_X = df_final[all_features]\n",
        "df_final_y = df_final['log_child_iq']"
      ],
      "metadata": {
        "id": "iP0lnbhTf-3e"
      },
      "execution_count": 22,
      "outputs": []
    },
    {
      "cell_type": "code",
      "source": [
        "df_final_X.head()"
      ],
      "metadata": {
        "colab": {
          "base_uri": "https://localhost:8080/",
          "height": 206
        },
        "id": "_9ECk6wkjG0d",
        "outputId": "022d4a06-862b-455d-e800-fb54edfe5773"
      },
      "execution_count": 23,
      "outputs": [
        {
          "output_type": "execute_result",
          "data": {
            "text/plain": [
              "    mother_iq  age  completed_school  age_*_mother_iq  mother_worked\n",
              "0  121.117529   27                 1      3270.173272              4\n",
              "1   89.361882   25                 1      2234.047043              4\n",
              "2  115.443165   27                 1      3116.965452              4\n",
              "3   99.449639   25                 1      2486.240986              3\n",
              "4   92.745710   27                 1      2504.134170              4"
            ],
            "text/html": [
              "\n",
              "  <div id=\"df-71899a2d-11c9-4d85-9ee8-fe148a4ac676\">\n",
              "    <div class=\"colab-df-container\">\n",
              "      <div>\n",
              "<style scoped>\n",
              "    .dataframe tbody tr th:only-of-type {\n",
              "        vertical-align: middle;\n",
              "    }\n",
              "\n",
              "    .dataframe tbody tr th {\n",
              "        vertical-align: top;\n",
              "    }\n",
              "\n",
              "    .dataframe thead th {\n",
              "        text-align: right;\n",
              "    }\n",
              "</style>\n",
              "<table border=\"1\" class=\"dataframe\">\n",
              "  <thead>\n",
              "    <tr style=\"text-align: right;\">\n",
              "      <th></th>\n",
              "      <th>mother_iq</th>\n",
              "      <th>age</th>\n",
              "      <th>completed_school</th>\n",
              "      <th>age_*_mother_iq</th>\n",
              "      <th>mother_worked</th>\n",
              "    </tr>\n",
              "  </thead>\n",
              "  <tbody>\n",
              "    <tr>\n",
              "      <th>0</th>\n",
              "      <td>121.117529</td>\n",
              "      <td>27</td>\n",
              "      <td>1</td>\n",
              "      <td>3270.173272</td>\n",
              "      <td>4</td>\n",
              "    </tr>\n",
              "    <tr>\n",
              "      <th>1</th>\n",
              "      <td>89.361882</td>\n",
              "      <td>25</td>\n",
              "      <td>1</td>\n",
              "      <td>2234.047043</td>\n",
              "      <td>4</td>\n",
              "    </tr>\n",
              "    <tr>\n",
              "      <th>2</th>\n",
              "      <td>115.443165</td>\n",
              "      <td>27</td>\n",
              "      <td>1</td>\n",
              "      <td>3116.965452</td>\n",
              "      <td>4</td>\n",
              "    </tr>\n",
              "    <tr>\n",
              "      <th>3</th>\n",
              "      <td>99.449639</td>\n",
              "      <td>25</td>\n",
              "      <td>1</td>\n",
              "      <td>2486.240986</td>\n",
              "      <td>3</td>\n",
              "    </tr>\n",
              "    <tr>\n",
              "      <th>4</th>\n",
              "      <td>92.745710</td>\n",
              "      <td>27</td>\n",
              "      <td>1</td>\n",
              "      <td>2504.134170</td>\n",
              "      <td>4</td>\n",
              "    </tr>\n",
              "  </tbody>\n",
              "</table>\n",
              "</div>\n",
              "      <button class=\"colab-df-convert\" onclick=\"convertToInteractive('df-71899a2d-11c9-4d85-9ee8-fe148a4ac676')\"\n",
              "              title=\"Convert this dataframe to an interactive table.\"\n",
              "              style=\"display:none;\">\n",
              "        \n",
              "  <svg xmlns=\"http://www.w3.org/2000/svg\" height=\"24px\"viewBox=\"0 0 24 24\"\n",
              "       width=\"24px\">\n",
              "    <path d=\"M0 0h24v24H0V0z\" fill=\"none\"/>\n",
              "    <path d=\"M18.56 5.44l.94 2.06.94-2.06 2.06-.94-2.06-.94-.94-2.06-.94 2.06-2.06.94zm-11 1L8.5 8.5l.94-2.06 2.06-.94-2.06-.94L8.5 2.5l-.94 2.06-2.06.94zm10 10l.94 2.06.94-2.06 2.06-.94-2.06-.94-.94-2.06-.94 2.06-2.06.94z\"/><path d=\"M17.41 7.96l-1.37-1.37c-.4-.4-.92-.59-1.43-.59-.52 0-1.04.2-1.43.59L10.3 9.45l-7.72 7.72c-.78.78-.78 2.05 0 2.83L4 21.41c.39.39.9.59 1.41.59.51 0 1.02-.2 1.41-.59l7.78-7.78 2.81-2.81c.8-.78.8-2.07 0-2.86zM5.41 20L4 18.59l7.72-7.72 1.47 1.35L5.41 20z\"/>\n",
              "  </svg>\n",
              "      </button>\n",
              "      \n",
              "  <style>\n",
              "    .colab-df-container {\n",
              "      display:flex;\n",
              "      flex-wrap:wrap;\n",
              "      gap: 12px;\n",
              "    }\n",
              "\n",
              "    .colab-df-convert {\n",
              "      background-color: #E8F0FE;\n",
              "      border: none;\n",
              "      border-radius: 50%;\n",
              "      cursor: pointer;\n",
              "      display: none;\n",
              "      fill: #1967D2;\n",
              "      height: 32px;\n",
              "      padding: 0 0 0 0;\n",
              "      width: 32px;\n",
              "    }\n",
              "\n",
              "    .colab-df-convert:hover {\n",
              "      background-color: #E2EBFA;\n",
              "      box-shadow: 0px 1px 2px rgba(60, 64, 67, 0.3), 0px 1px 3px 1px rgba(60, 64, 67, 0.15);\n",
              "      fill: #174EA6;\n",
              "    }\n",
              "\n",
              "    [theme=dark] .colab-df-convert {\n",
              "      background-color: #3B4455;\n",
              "      fill: #D2E3FC;\n",
              "    }\n",
              "\n",
              "    [theme=dark] .colab-df-convert:hover {\n",
              "      background-color: #434B5C;\n",
              "      box-shadow: 0px 1px 3px 1px rgba(0, 0, 0, 0.15);\n",
              "      filter: drop-shadow(0px 1px 2px rgba(0, 0, 0, 0.3));\n",
              "      fill: #FFFFFF;\n",
              "    }\n",
              "  </style>\n",
              "\n",
              "      <script>\n",
              "        const buttonEl =\n",
              "          document.querySelector('#df-71899a2d-11c9-4d85-9ee8-fe148a4ac676 button.colab-df-convert');\n",
              "        buttonEl.style.display =\n",
              "          google.colab.kernel.accessAllowed ? 'block' : 'none';\n",
              "\n",
              "        async function convertToInteractive(key) {\n",
              "          const element = document.querySelector('#df-71899a2d-11c9-4d85-9ee8-fe148a4ac676');\n",
              "          const dataTable =\n",
              "            await google.colab.kernel.invokeFunction('convertToInteractive',\n",
              "                                                     [key], {});\n",
              "          if (!dataTable) return;\n",
              "\n",
              "          const docLinkHtml = 'Like what you see? Visit the ' +\n",
              "            '<a target=\"_blank\" href=https://colab.research.google.com/notebooks/data_table.ipynb>data table notebook</a>'\n",
              "            + ' to learn more about interactive tables.';\n",
              "          element.innerHTML = '';\n",
              "          dataTable['output_type'] = 'display_data';\n",
              "          await google.colab.output.renderOutput(dataTable, element);\n",
              "          const docLink = document.createElement('div');\n",
              "          docLink.innerHTML = docLinkHtml;\n",
              "          element.appendChild(docLink);\n",
              "        }\n",
              "      </script>\n",
              "    </div>\n",
              "  </div>\n",
              "  "
            ]
          },
          "metadata": {},
          "execution_count": 23
        }
      ]
    },
    {
      "cell_type": "code",
      "source": [
        "df_final_X_dev, df_final_X_test, df_final_y_dev, df_final_y_test = train_test_split(df_final_X, df_final_y, test_size=0.2, random_state=0)"
      ],
      "metadata": {
        "id": "SxjPfdhTfjQH"
      },
      "execution_count": 24,
      "outputs": []
    },
    {
      "cell_type": "markdown",
      "source": [
        "#### **Linear Regression with Multiple Predictors**"
      ],
      "metadata": {
        "id": "Fwr482jmf5Et"
      }
    },
    {
      "cell_type": "code",
      "source": [
        "features_select = ['mother_iq', 'age', 'completed_school', 'mother_worked']"
      ],
      "metadata": {
        "id": "UWR1Lt8BgCX8"
      },
      "execution_count": 25,
      "outputs": []
    },
    {
      "cell_type": "code",
      "source": [
        "df_final_X_dev.head()"
      ],
      "metadata": {
        "colab": {
          "base_uri": "https://localhost:8080/",
          "height": 206
        },
        "id": "Sgxr-WspqWdz",
        "outputId": "8c384bca-0a7e-4e9f-c149-b8eac85bdf1b"
      },
      "execution_count": 26,
      "outputs": [
        {
          "output_type": "execute_result",
          "data": {
            "text/plain": [
              "      mother_iq  age  completed_school  age_*_mother_iq  mother_worked\n",
              "232  129.245934   26                 1      3360.394274              4\n",
              "423  131.533291   21                 1      2762.199117              4\n",
              "259  102.638887   19                 1      1950.138851              4\n",
              "351   84.163604   23                 1      1935.762885              3\n",
              "218  118.090770   22                 1      2597.996935              4"
            ],
            "text/html": [
              "\n",
              "  <div id=\"df-dc8903e9-057b-456c-b04f-55457cf3eab1\">\n",
              "    <div class=\"colab-df-container\">\n",
              "      <div>\n",
              "<style scoped>\n",
              "    .dataframe tbody tr th:only-of-type {\n",
              "        vertical-align: middle;\n",
              "    }\n",
              "\n",
              "    .dataframe tbody tr th {\n",
              "        vertical-align: top;\n",
              "    }\n",
              "\n",
              "    .dataframe thead th {\n",
              "        text-align: right;\n",
              "    }\n",
              "</style>\n",
              "<table border=\"1\" class=\"dataframe\">\n",
              "  <thead>\n",
              "    <tr style=\"text-align: right;\">\n",
              "      <th></th>\n",
              "      <th>mother_iq</th>\n",
              "      <th>age</th>\n",
              "      <th>completed_school</th>\n",
              "      <th>age_*_mother_iq</th>\n",
              "      <th>mother_worked</th>\n",
              "    </tr>\n",
              "  </thead>\n",
              "  <tbody>\n",
              "    <tr>\n",
              "      <th>232</th>\n",
              "      <td>129.245934</td>\n",
              "      <td>26</td>\n",
              "      <td>1</td>\n",
              "      <td>3360.394274</td>\n",
              "      <td>4</td>\n",
              "    </tr>\n",
              "    <tr>\n",
              "      <th>423</th>\n",
              "      <td>131.533291</td>\n",
              "      <td>21</td>\n",
              "      <td>1</td>\n",
              "      <td>2762.199117</td>\n",
              "      <td>4</td>\n",
              "    </tr>\n",
              "    <tr>\n",
              "      <th>259</th>\n",
              "      <td>102.638887</td>\n",
              "      <td>19</td>\n",
              "      <td>1</td>\n",
              "      <td>1950.138851</td>\n",
              "      <td>4</td>\n",
              "    </tr>\n",
              "    <tr>\n",
              "      <th>351</th>\n",
              "      <td>84.163604</td>\n",
              "      <td>23</td>\n",
              "      <td>1</td>\n",
              "      <td>1935.762885</td>\n",
              "      <td>3</td>\n",
              "    </tr>\n",
              "    <tr>\n",
              "      <th>218</th>\n",
              "      <td>118.090770</td>\n",
              "      <td>22</td>\n",
              "      <td>1</td>\n",
              "      <td>2597.996935</td>\n",
              "      <td>4</td>\n",
              "    </tr>\n",
              "  </tbody>\n",
              "</table>\n",
              "</div>\n",
              "      <button class=\"colab-df-convert\" onclick=\"convertToInteractive('df-dc8903e9-057b-456c-b04f-55457cf3eab1')\"\n",
              "              title=\"Convert this dataframe to an interactive table.\"\n",
              "              style=\"display:none;\">\n",
              "        \n",
              "  <svg xmlns=\"http://www.w3.org/2000/svg\" height=\"24px\"viewBox=\"0 0 24 24\"\n",
              "       width=\"24px\">\n",
              "    <path d=\"M0 0h24v24H0V0z\" fill=\"none\"/>\n",
              "    <path d=\"M18.56 5.44l.94 2.06.94-2.06 2.06-.94-2.06-.94-.94-2.06-.94 2.06-2.06.94zm-11 1L8.5 8.5l.94-2.06 2.06-.94-2.06-.94L8.5 2.5l-.94 2.06-2.06.94zm10 10l.94 2.06.94-2.06 2.06-.94-2.06-.94-.94-2.06-.94 2.06-2.06.94z\"/><path d=\"M17.41 7.96l-1.37-1.37c-.4-.4-.92-.59-1.43-.59-.52 0-1.04.2-1.43.59L10.3 9.45l-7.72 7.72c-.78.78-.78 2.05 0 2.83L4 21.41c.39.39.9.59 1.41.59.51 0 1.02-.2 1.41-.59l7.78-7.78 2.81-2.81c.8-.78.8-2.07 0-2.86zM5.41 20L4 18.59l7.72-7.72 1.47 1.35L5.41 20z\"/>\n",
              "  </svg>\n",
              "      </button>\n",
              "      \n",
              "  <style>\n",
              "    .colab-df-container {\n",
              "      display:flex;\n",
              "      flex-wrap:wrap;\n",
              "      gap: 12px;\n",
              "    }\n",
              "\n",
              "    .colab-df-convert {\n",
              "      background-color: #E8F0FE;\n",
              "      border: none;\n",
              "      border-radius: 50%;\n",
              "      cursor: pointer;\n",
              "      display: none;\n",
              "      fill: #1967D2;\n",
              "      height: 32px;\n",
              "      padding: 0 0 0 0;\n",
              "      width: 32px;\n",
              "    }\n",
              "\n",
              "    .colab-df-convert:hover {\n",
              "      background-color: #E2EBFA;\n",
              "      box-shadow: 0px 1px 2px rgba(60, 64, 67, 0.3), 0px 1px 3px 1px rgba(60, 64, 67, 0.15);\n",
              "      fill: #174EA6;\n",
              "    }\n",
              "\n",
              "    [theme=dark] .colab-df-convert {\n",
              "      background-color: #3B4455;\n",
              "      fill: #D2E3FC;\n",
              "    }\n",
              "\n",
              "    [theme=dark] .colab-df-convert:hover {\n",
              "      background-color: #434B5C;\n",
              "      box-shadow: 0px 1px 3px 1px rgba(0, 0, 0, 0.15);\n",
              "      filter: drop-shadow(0px 1px 2px rgba(0, 0, 0, 0.3));\n",
              "      fill: #FFFFFF;\n",
              "    }\n",
              "  </style>\n",
              "\n",
              "      <script>\n",
              "        const buttonEl =\n",
              "          document.querySelector('#df-dc8903e9-057b-456c-b04f-55457cf3eab1 button.colab-df-convert');\n",
              "        buttonEl.style.display =\n",
              "          google.colab.kernel.accessAllowed ? 'block' : 'none';\n",
              "\n",
              "        async function convertToInteractive(key) {\n",
              "          const element = document.querySelector('#df-dc8903e9-057b-456c-b04f-55457cf3eab1');\n",
              "          const dataTable =\n",
              "            await google.colab.kernel.invokeFunction('convertToInteractive',\n",
              "                                                     [key], {});\n",
              "          if (!dataTable) return;\n",
              "\n",
              "          const docLinkHtml = 'Like what you see? Visit the ' +\n",
              "            '<a target=\"_blank\" href=https://colab.research.google.com/notebooks/data_table.ipynb>data table notebook</a>'\n",
              "            + ' to learn more about interactive tables.';\n",
              "          element.innerHTML = '';\n",
              "          dataTable['output_type'] = 'display_data';\n",
              "          await google.colab.output.renderOutput(dataTable, element);\n",
              "          const docLink = document.createElement('div');\n",
              "          docLink.innerHTML = docLinkHtml;\n",
              "          element.appendChild(docLink);\n",
              "        }\n",
              "      </script>\n",
              "    </div>\n",
              "  </div>\n",
              "  "
            ]
          },
          "metadata": {},
          "execution_count": 26
        }
      ]
    },
    {
      "cell_type": "code",
      "source": [
        "df_final_X_dev[features_select].head()"
      ],
      "metadata": {
        "colab": {
          "base_uri": "https://localhost:8080/",
          "height": 206
        },
        "id": "R6tLXzQnqTmE",
        "outputId": "cfbc6f6e-03f5-4390-9331-254ab3cb456f"
      },
      "execution_count": 27,
      "outputs": [
        {
          "output_type": "execute_result",
          "data": {
            "text/plain": [
              "      mother_iq  age  completed_school  mother_worked\n",
              "232  129.245934   26                 1              4\n",
              "423  131.533291   21                 1              4\n",
              "259  102.638887   19                 1              4\n",
              "351   84.163604   23                 1              3\n",
              "218  118.090770   22                 1              4"
            ],
            "text/html": [
              "\n",
              "  <div id=\"df-db704fc6-c559-43e0-a05e-691e175f8e01\">\n",
              "    <div class=\"colab-df-container\">\n",
              "      <div>\n",
              "<style scoped>\n",
              "    .dataframe tbody tr th:only-of-type {\n",
              "        vertical-align: middle;\n",
              "    }\n",
              "\n",
              "    .dataframe tbody tr th {\n",
              "        vertical-align: top;\n",
              "    }\n",
              "\n",
              "    .dataframe thead th {\n",
              "        text-align: right;\n",
              "    }\n",
              "</style>\n",
              "<table border=\"1\" class=\"dataframe\">\n",
              "  <thead>\n",
              "    <tr style=\"text-align: right;\">\n",
              "      <th></th>\n",
              "      <th>mother_iq</th>\n",
              "      <th>age</th>\n",
              "      <th>completed_school</th>\n",
              "      <th>mother_worked</th>\n",
              "    </tr>\n",
              "  </thead>\n",
              "  <tbody>\n",
              "    <tr>\n",
              "      <th>232</th>\n",
              "      <td>129.245934</td>\n",
              "      <td>26</td>\n",
              "      <td>1</td>\n",
              "      <td>4</td>\n",
              "    </tr>\n",
              "    <tr>\n",
              "      <th>423</th>\n",
              "      <td>131.533291</td>\n",
              "      <td>21</td>\n",
              "      <td>1</td>\n",
              "      <td>4</td>\n",
              "    </tr>\n",
              "    <tr>\n",
              "      <th>259</th>\n",
              "      <td>102.638887</td>\n",
              "      <td>19</td>\n",
              "      <td>1</td>\n",
              "      <td>4</td>\n",
              "    </tr>\n",
              "    <tr>\n",
              "      <th>351</th>\n",
              "      <td>84.163604</td>\n",
              "      <td>23</td>\n",
              "      <td>1</td>\n",
              "      <td>3</td>\n",
              "    </tr>\n",
              "    <tr>\n",
              "      <th>218</th>\n",
              "      <td>118.090770</td>\n",
              "      <td>22</td>\n",
              "      <td>1</td>\n",
              "      <td>4</td>\n",
              "    </tr>\n",
              "  </tbody>\n",
              "</table>\n",
              "</div>\n",
              "      <button class=\"colab-df-convert\" onclick=\"convertToInteractive('df-db704fc6-c559-43e0-a05e-691e175f8e01')\"\n",
              "              title=\"Convert this dataframe to an interactive table.\"\n",
              "              style=\"display:none;\">\n",
              "        \n",
              "  <svg xmlns=\"http://www.w3.org/2000/svg\" height=\"24px\"viewBox=\"0 0 24 24\"\n",
              "       width=\"24px\">\n",
              "    <path d=\"M0 0h24v24H0V0z\" fill=\"none\"/>\n",
              "    <path d=\"M18.56 5.44l.94 2.06.94-2.06 2.06-.94-2.06-.94-.94-2.06-.94 2.06-2.06.94zm-11 1L8.5 8.5l.94-2.06 2.06-.94-2.06-.94L8.5 2.5l-.94 2.06-2.06.94zm10 10l.94 2.06.94-2.06 2.06-.94-2.06-.94-.94-2.06-.94 2.06-2.06.94z\"/><path d=\"M17.41 7.96l-1.37-1.37c-.4-.4-.92-.59-1.43-.59-.52 0-1.04.2-1.43.59L10.3 9.45l-7.72 7.72c-.78.78-.78 2.05 0 2.83L4 21.41c.39.39.9.59 1.41.59.51 0 1.02-.2 1.41-.59l7.78-7.78 2.81-2.81c.8-.78.8-2.07 0-2.86zM5.41 20L4 18.59l7.72-7.72 1.47 1.35L5.41 20z\"/>\n",
              "  </svg>\n",
              "      </button>\n",
              "      \n",
              "  <style>\n",
              "    .colab-df-container {\n",
              "      display:flex;\n",
              "      flex-wrap:wrap;\n",
              "      gap: 12px;\n",
              "    }\n",
              "\n",
              "    .colab-df-convert {\n",
              "      background-color: #E8F0FE;\n",
              "      border: none;\n",
              "      border-radius: 50%;\n",
              "      cursor: pointer;\n",
              "      display: none;\n",
              "      fill: #1967D2;\n",
              "      height: 32px;\n",
              "      padding: 0 0 0 0;\n",
              "      width: 32px;\n",
              "    }\n",
              "\n",
              "    .colab-df-convert:hover {\n",
              "      background-color: #E2EBFA;\n",
              "      box-shadow: 0px 1px 2px rgba(60, 64, 67, 0.3), 0px 1px 3px 1px rgba(60, 64, 67, 0.15);\n",
              "      fill: #174EA6;\n",
              "    }\n",
              "\n",
              "    [theme=dark] .colab-df-convert {\n",
              "      background-color: #3B4455;\n",
              "      fill: #D2E3FC;\n",
              "    }\n",
              "\n",
              "    [theme=dark] .colab-df-convert:hover {\n",
              "      background-color: #434B5C;\n",
              "      box-shadow: 0px 1px 3px 1px rgba(0, 0, 0, 0.15);\n",
              "      filter: drop-shadow(0px 1px 2px rgba(0, 0, 0, 0.3));\n",
              "      fill: #FFFFFF;\n",
              "    }\n",
              "  </style>\n",
              "\n",
              "      <script>\n",
              "        const buttonEl =\n",
              "          document.querySelector('#df-db704fc6-c559-43e0-a05e-691e175f8e01 button.colab-df-convert');\n",
              "        buttonEl.style.display =\n",
              "          google.colab.kernel.accessAllowed ? 'block' : 'none';\n",
              "\n",
              "        async function convertToInteractive(key) {\n",
              "          const element = document.querySelector('#df-db704fc6-c559-43e0-a05e-691e175f8e01');\n",
              "          const dataTable =\n",
              "            await google.colab.kernel.invokeFunction('convertToInteractive',\n",
              "                                                     [key], {});\n",
              "          if (!dataTable) return;\n",
              "\n",
              "          const docLinkHtml = 'Like what you see? Visit the ' +\n",
              "            '<a target=\"_blank\" href=https://colab.research.google.com/notebooks/data_table.ipynb>data table notebook</a>'\n",
              "            + ' to learn more about interactive tables.';\n",
              "          element.innerHTML = '';\n",
              "          dataTable['output_type'] = 'display_data';\n",
              "          await google.colab.output.renderOutput(dataTable, element);\n",
              "          const docLink = document.createElement('div');\n",
              "          docLink.innerHTML = docLinkHtml;\n",
              "          element.appendChild(docLink);\n",
              "        }\n",
              "      </script>\n",
              "    </div>\n",
              "  </div>\n",
              "  "
            ]
          },
          "metadata": {},
          "execution_count": 27
        }
      ]
    },
    {
      "cell_type": "code",
      "source": [
        "num_features = ['mother_iq', 'age', 'completed_school']\n",
        "preprocess = make_column_transformer((StandardScaler(), num_features),\n",
        "                                      (OneHotEncoder(handle_unknown = \"ignore\"), ohe_features),\n",
        "                                      remainder = 'passthrough'\n",
        "                                     )\n",
        "pipe_lr_pure = make_pipeline(preprocess, LinearRegression())"
      ],
      "metadata": {
        "id": "u5VPSJ0ngCaf"
      },
      "execution_count": 28,
      "outputs": []
    },
    {
      "cell_type": "code",
      "source": [
        "def mape(pred, actual):\n",
        "  mape = 0\n",
        "  for (p, a) in zip(pred, actual):\n",
        "     mape += abs(p-a)/a\n",
        "  return mape/len(pred) "
      ],
      "metadata": {
        "id": "Ear-pMyugCcv"
      },
      "execution_count": 29,
      "outputs": []
    },
    {
      "cell_type": "code",
      "source": [
        "pipe_fit_lr_pure = pipe_lr_pure.fit(df_final_X_dev[features_select], df_final_y_dev)"
      ],
      "metadata": {
        "id": "svId5Suugp4A"
      },
      "execution_count": 30,
      "outputs": []
    },
    {
      "cell_type": "code",
      "source": [
        "print(f\"R2 value on Train Dataset is: { pipe_fit_lr_pure.score(df_final_X_dev[features_select], df_final_y_dev) :2f}\")\n",
        "print(f\"R2 value on Test Dataset is: { pipe_fit_lr_pure.score(df_final_X_test[features_select], df_final_y_test) :2f}\")"
      ],
      "metadata": {
        "colab": {
          "base_uri": "https://localhost:8080/"
        },
        "id": "eTptRxg8gCe4",
        "outputId": "45b85d80-bfe4-435e-bc70-f1ff74bc3105"
      },
      "execution_count": 31,
      "outputs": [
        {
          "output_type": "stream",
          "name": "stdout",
          "text": [
            "R2 value on Train Dataset is: 0.217263\n",
            "R2 value on Test Dataset is: 0.191929\n"
          ]
        }
      ]
    },
    {
      "cell_type": "code",
      "source": [
        "print(f\"MAPE value on Train Dataset is: { mape(np.exp(pipe_fit_lr_pure.predict(df_final_X_dev[features_select])) , np.exp(df_final_y_dev)) :3f}\")\n",
        "print(f\"MAPE value on Test Dataset is: { mape(np.exp(pipe_fit_lr_pure.predict(df_final_X_dev[features_select])), np.exp(df_final_y_test)) :3f}\")"
      ],
      "metadata": {
        "colab": {
          "base_uri": "https://localhost:8080/"
        },
        "id": "hZYr-ETtsdwK",
        "outputId": "45d5f4ea-d374-4849-807e-0cb41b967fab"
      },
      "execution_count": 32,
      "outputs": [
        {
          "output_type": "stream",
          "name": "stdout",
          "text": [
            "MAPE value on Train Dataset is: 0.198384\n",
            "MAPE value on Test Dataset is: 0.060494\n"
          ]
        }
      ]
    },
    {
      "cell_type": "code",
      "source": [
        "ohe_feature_names = preprocess.named_transformers_[\"onehotencoder\"].get_feature_names().tolist()\n",
        "feature_names = num_features + ohe_feature_names \n",
        "# feature_names"
      ],
      "metadata": {
        "id": "rRc3NDPgpdug"
      },
      "execution_count": 33,
      "outputs": []
    },
    {
      "cell_type": "code",
      "source": [
        "ceof = pipe_fit_lr_pure.named_steps['linearregression'].coef_.tolist()\n",
        "intercept = pipe_fit_lr_pure.named_steps['linearregression'].intercept_.tolist()\n",
        "all_coeff = [intercept] + ceof\n",
        "all_coeff\n",
        "\n",
        "all_names = ['Intercept'] + feature_names\n",
        "\n",
        "### Your code here\n",
        "plt.figure(figsize=(12,8))\n",
        "ax = sns.barplot(x = all_names, y = all_coeff, alpha=0.7)\n",
        "ax.tick_params(axis='x', rotation=45)\n",
        "ax.set_xlabel(\"variables\", fontsize = 12)\n",
        "plt.title(\"Coefficients of the Linear Regression Model\", fontsize=14)\n",
        "#plt.plot(X_test[:,[1]].reshape(20,), ridge_yhat, color = 'red')\n",
        "#sns.set_style('ticks')\n",
        "plt.show(fig)"
      ],
      "metadata": {
        "colab": {
          "base_uri": "https://localhost:8080/",
          "height": 578
        },
        "id": "pSZ5DUaGpdwo",
        "outputId": "aecef56b-ed1b-4c6b-8544-f084d54a48d6"
      },
      "execution_count": 34,
      "outputs": [
        {
          "output_type": "display_data",
          "data": {
            "text/plain": [
              "<Figure size 864x576 with 1 Axes>"
            ],
            "image/png": "[encoded data removed]"
          },
          "metadata": {
            "needs_background": "light"
          }
        }
      ]
    },
    {
      "cell_type": "markdown",
      "source": [
        "##### Tuning Elasticnet Regression for regularization"
      ],
      "metadata": {
        "id": "kwoFRL3NEUrl"
      }
    },
    {
      "cell_type": "code",
      "source": [
        "from sklearn.linear_model import ElasticNet\n",
        "\n",
        "param_grid = {\n",
        "              'alpha': np.linspace(0.01, 0.99, 20),\n",
        "              'l1_ratio':np.linspace(0.01, 0.99, 20)\n",
        "              }\n",
        "param_grid"
      ],
      "metadata": {
        "colab": {
          "base_uri": "https://localhost:8080/"
        },
        "id": "X1_iOFYDwpaj",
        "outputId": "1f6371d9-937e-4dcd-a13c-f18b900b41da"
      },
      "execution_count": 35,
      "outputs": [
        {
          "output_type": "execute_result",
          "data": {
            "text/plain": [
              "{'alpha': array([0.01      , 0.06157895, 0.11315789, 0.16473684, 0.21631579,\n",
              "        0.26789474, 0.31947368, 0.37105263, 0.42263158, 0.47421053,\n",
              "        0.52578947, 0.57736842, 0.62894737, 0.68052632, 0.73210526,\n",
              "        0.78368421, 0.83526316, 0.88684211, 0.93842105, 0.99      ]),\n",
              " 'l1_ratio': array([0.01      , 0.06157895, 0.11315789, 0.16473684, 0.21631579,\n",
              "        0.26789474, 0.31947368, 0.37105263, 0.42263158, 0.47421053,\n",
              "        0.52578947, 0.57736842, 0.62894737, 0.68052632, 0.73210526,\n",
              "        0.78368421, 0.83526316, 0.88684211, 0.93842105, 0.99      ])}"
            ]
          },
          "metadata": {},
          "execution_count": 35
        }
      ]
    },
    {
      "cell_type": "code",
      "source": [
        "pipe_lr = make_pipeline(preprocess,\n",
        "                    GridSearchCV(ElasticNet(random_state=80),\n",
        "                                param_grid = param_grid, cv = 10)\n",
        "                    )\n",
        "\n",
        "pipe_fit_lr = pipe_lr.fit(df_final_X_dev[features_select], df_final_y_dev)\n",
        "grid_search_results_lr = pipe_lr.named_steps[\"gridsearchcv\"]\n",
        "\n",
        "print(f\"Best Score: {grid_search_results_lr.best_score_ :3f}\")\n",
        "print(f\"Best Parameters: {grid_search_results_lr.best_params_ }\")\n",
        "print(f\"Performance on Test Dataset is: {pipe_lr.score(df_final_X_test, df_final_y_test) :3f}\")\n",
        "best_model = grid_search_results_lr.best_estimator_"
      ],
      "metadata": {
        "colab": {
          "base_uri": "https://localhost:8080/"
        },
        "id": "R2Z6VzhpwKeY",
        "outputId": "809c9627-1c43-4614-f0a9-b798d3ae360b"
      },
      "execution_count": 36,
      "outputs": [
        {
          "output_type": "stream",
          "name": "stdout",
          "text": [
            "Best Score: 0.112092\n",
            "Best Parameters: {'alpha': 0.01, 'l1_ratio': 0.99}\n",
            "Performance on Test Dataset is: 0.188594\n"
          ]
        }
      ]
    },
    {
      "cell_type": "code",
      "source": [
        "print(f\"R2 value on Train Dataset is: { pipe_fit_lr.score(df_final_X_dev[features_select], df_final_y_dev) :2f}\")\n",
        "print(f\"R2 value on Test Dataset is: { pipe_fit_lr.score(df_final_X_test[features_select], df_final_y_test) :2f}\")"
      ],
      "metadata": {
        "colab": {
          "base_uri": "https://localhost:8080/"
        },
        "id": "IegCsiuv6edc",
        "outputId": "aecf6d2d-2bca-4203-ca70-3778ebc77c80"
      },
      "execution_count": 37,
      "outputs": [
        {
          "output_type": "stream",
          "name": "stdout",
          "text": [
            "R2 value on Train Dataset is: 0.208849\n",
            "R2 value on Test Dataset is: 0.188594\n"
          ]
        }
      ]
    },
    {
      "cell_type": "code",
      "source": [
        "print(f\"MAPE value on Train Dataset is: { mape(np.exp(pipe_fit_lr.predict(df_final_X_dev[features_select])) , np.exp(df_final_y_dev)) :3f}\")\n",
        "print(f\"MAPE value on Test Dataset is: { mape(np.exp(pipe_fit_lr.predict(df_final_X_dev[features_select])), np.exp(df_final_y_test)) :3f}\")"
      ],
      "metadata": {
        "colab": {
          "base_uri": "https://localhost:8080/"
        },
        "id": "mY17vPjg14Nt",
        "outputId": "955d0713-171f-4ef0-eeb4-108a0485c504"
      },
      "execution_count": 38,
      "outputs": [
        {
          "output_type": "stream",
          "name": "stdout",
          "text": [
            "MAPE value on Train Dataset is: 0.198891\n",
            "MAPE value on Test Dataset is: 0.058693\n"
          ]
        }
      ]
    },
    {
      "cell_type": "code",
      "source": [
        "ceof = best_model.coef_.tolist()\n",
        "intercept = best_model.intercept_.tolist()\n",
        "all_coeff = [intercept] + ceof\n",
        "all_coeff\n",
        "\n",
        "all_names = ['Intercept'] + feature_names\n",
        "\n",
        "### Your code here\n",
        "plt.figure(figsize=(12,8))\n",
        "ax = sns.barplot(x = all_names, y = all_coeff, alpha=0.7)\n",
        "ax.tick_params(axis='x', rotation=45)\n",
        "ax.set_xlabel(\"variables\", fontsize = 12)\n",
        "plt.title(\"Coefficients of the ElasticNet Regression Model\", fontsize=14)\n",
        "#plt.plot(X_test[:,[1]].reshape(20,), ridge_yhat, color = 'red')\n",
        "#sns.set_style('ticks')\n",
        "plt.show(fig)"
      ],
      "metadata": {
        "colab": {
          "base_uri": "https://localhost:8080/",
          "height": 578
        },
        "id": "SMGFoluc7dn4",
        "outputId": "273e597b-7545-450c-98f3-4185fdc3e8fa"
      },
      "execution_count": 39,
      "outputs": [
        {
          "output_type": "display_data",
          "data": {
            "text/plain": [
              "<Figure size 864x576 with 1 Axes>"
            ],
            "image/png": "[encoded data removed]"
          },
          "metadata": {
            "needs_background": "light"
          }
        }
      ]
    },
    {
      "cell_type": "markdown",
      "source": [
        "The child's IQ is linearly combination of 7 independent variables and intercept (including one hot encoded) variables. Child's IQ increases for variables having +ve coefficients and vice-versa."
      ],
      "metadata": {
        "id": "NWPfMOwgj1-C"
      }
    },
    {
      "cell_type": "markdown",
      "source": [
        "#### **Linear Regression with Single Predictors**"
      ],
      "metadata": {
        "id": "u8am6oAvhi4p"
      }
    },
    {
      "cell_type": "code",
      "source": [
        "num_features = ['mother_iq']"
      ],
      "metadata": {
        "id": "0WXf_BWPawUZ"
      },
      "execution_count": 40,
      "outputs": []
    },
    {
      "cell_type": "code",
      "source": [
        "# #code here\n",
        "preprocess = make_column_transformer((StandardScaler(), num_features))\n",
        "pipe_lr_pure = make_pipeline(preprocess, LinearRegression())"
      ],
      "metadata": {
        "id": "SLxmIDxufPE3"
      },
      "execution_count": 41,
      "outputs": []
    },
    {
      "cell_type": "code",
      "source": [
        "pipe_fit_lr_pure= pipe_lr_pure.fit(df_final_X_dev[num_features], df_final_y_dev)"
      ],
      "metadata": {
        "id": "n7vnh8wzma_Y"
      },
      "execution_count": 42,
      "outputs": []
    },
    {
      "cell_type": "code",
      "source": [
        "print(f\"R2 value on Train Dataset is: { pipe_fit_lr_pure.score(df_final_X_dev, df_final_y_dev) :2f}\")\n",
        "print(f\"R2 value on Test Dataset is: { pipe_fit_lr_pure.score(df_final_X_test, df_final_y_test) :2f}\")"
      ],
      "metadata": {
        "colab": {
          "base_uri": "https://localhost:8080/"
        },
        "id": "tiULHqnys4mu",
        "outputId": "02948d6d-7bb5-43c8-eb29-120cf4786b00"
      },
      "execution_count": 43,
      "outputs": [
        {
          "output_type": "stream",
          "name": "stdout",
          "text": [
            "R2 value on Train Dataset is: 0.195713\n",
            "R2 value on Test Dataset is: 0.161276\n"
          ]
        }
      ]
    },
    {
      "cell_type": "code",
      "source": [
        "print(f\"MAPE value on Train Dataset is: { mape(np.exp(pipe_fit_lr_pure.predict(df_final_X_dev)) , np.exp(df_final_y_dev)) :3f}\")\n",
        "print(f\"MAPE value on Test Dataset is: { mape(np.exp(pipe_fit_lr_pure.predict(df_final_X_dev)), np.exp(df_final_y_test)) :3f}\")"
      ],
      "metadata": {
        "colab": {
          "base_uri": "https://localhost:8080/"
        },
        "id": "j7kwK5Gts5am",
        "outputId": "b3669650-2fec-48c5-ef38-e13a21d26f37"
      },
      "execution_count": 44,
      "outputs": [
        {
          "output_type": "stream",
          "name": "stdout",
          "text": [
            "MAPE value on Train Dataset is: 0.199766\n",
            "MAPE value on Test Dataset is: 0.059425\n"
          ]
        }
      ]
    },
    {
      "cell_type": "code",
      "source": [
        "ceof = pipe_fit_lr_pure.named_steps['linearregression'].coef_.tolist()\n",
        "intercept = pipe_fit_lr_pure.named_steps['linearregression'].intercept_.tolist()\n",
        "all_coeff = [intercept] + ceof\n",
        "# all_coeff\n",
        "\n",
        "all_names = ['Intercept'] + num_features\n",
        "\n",
        "### Your code here\n",
        "plt.figure(figsize=(12,8))\n",
        "ax = sns.barplot(x = all_names, y = all_coeff, alpha=0.7)\n",
        "ax.tick_params(axis='x', rotation=45)\n",
        "ax.set_xlabel(\"variables\", fontsize = 12)\n",
        "plt.title(\"Coefficients of the Linear Regression Model\", fontsize=14)\n",
        "#plt.plot(X_test[:,[1]].reshape(20,), ridge_yhat, color = 'red')\n",
        "#sns.set_style('ticks')\n",
        "plt.show(fig)"
      ],
      "metadata": {
        "colab": {
          "base_uri": "https://localhost:8080/",
          "height": 550
        },
        "id": "be1MdUvijiYp",
        "outputId": "c844c7c2-f775-492c-e5b2-b33165d8d48f"
      },
      "execution_count": 45,
      "outputs": [
        {
          "output_type": "display_data",
          "data": {
            "text/plain": [
              "<Figure size 864x576 with 1 Axes>"
            ],
            "image/png": "[encoded data removed]"
          },
          "metadata": {
            "needs_background": "light"
          }
        }
      ]
    },
    {
      "cell_type": "markdown",
      "source": [
        "##### Tuning Elasticnet Regression for regularization"
      ],
      "metadata": {
        "id": "T5bMFh-kESoe"
      }
    },
    {
      "cell_type": "code",
      "source": [
        "pipe_lr = make_pipeline(preprocess,\n",
        "                    GridSearchCV(ElasticNet(random_state=80),\n",
        "                                param_grid = param_grid, cv = 10)\n",
        "                    )\n",
        "\n",
        "pipe_fit_lr = pipe_lr.fit(df_final_X_dev[num_features], df_final_y_dev)\n",
        "grid_search_results_lr = pipe_lr.named_steps[\"gridsearchcv\"]\n",
        "\n",
        "print(f\"Best Score: {grid_search_results_lr.best_score_ :3f}\")\n",
        "print(f\"Best Parameters: {grid_search_results_lr.best_params_ }\")\n",
        "print(f\"Performance on Test Dataset is: {pipe_lr.score(df_final_X_test, df_final_y_test) :3f}\")\n",
        "best_model = grid_search_results_lr.best_estimator_"
      ],
      "metadata": {
        "colab": {
          "base_uri": "https://localhost:8080/"
        },
        "id": "DUC5Jwq6CKtP",
        "outputId": "615bbaea-dd08-4a55-f0ea-9956209d5e48"
      },
      "execution_count": 46,
      "outputs": [
        {
          "output_type": "stream",
          "name": "stdout",
          "text": [
            "Best Score: 0.106307\n",
            "Best Parameters: {'alpha': 0.06157894736842105, 'l1_ratio': 0.01}\n",
            "Performance on Test Dataset is: 0.164162\n"
          ]
        }
      ]
    },
    {
      "cell_type": "code",
      "source": [
        "print(f\"R2 value on Train Dataset is: { pipe_fit_lr.score(df_final_X_dev[num_features], df_final_y_dev) :2f}\")\n",
        "print(f\"R2 value on Test Dataset is: { pipe_fit_lr.score(df_final_X_test[num_features], df_final_y_test) :2f}\")"
      ],
      "metadata": {
        "colab": {
          "base_uri": "https://localhost:8080/"
        },
        "outputId": "76d1cc06-6230-4b81-dcba-8a77c5bf5881",
        "id": "da31f7RaCeuo"
      },
      "execution_count": 47,
      "outputs": [
        {
          "output_type": "stream",
          "name": "stdout",
          "text": [
            "R2 value on Train Dataset is: 0.194954\n",
            "R2 value on Test Dataset is: 0.164162\n"
          ]
        }
      ]
    },
    {
      "cell_type": "code",
      "source": [
        "print(f\"MAPE value on Train Dataset is: { mape(np.exp(pipe_fit_lr.predict(df_final_X_dev[num_features])) , np.exp(df_final_y_dev)) :3f}\")\n",
        "print(f\"MAPE value on Test Dataset is: { mape(np.exp(pipe_fit_lr.predict(df_final_X_dev[num_features])), np.exp(df_final_y_test)) :3f}\")"
      ],
      "metadata": {
        "colab": {
          "base_uri": "https://localhost:8080/"
        },
        "outputId": "670aeade-d284-4bd9-f7fd-73f3ed3153bc",
        "id": "N34fIbbXCeup"
      },
      "execution_count": 48,
      "outputs": [
        {
          "output_type": "stream",
          "name": "stdout",
          "text": [
            "MAPE value on Train Dataset is: 0.199969\n",
            "MAPE value on Test Dataset is: 0.058641\n"
          ]
        }
      ]
    },
    {
      "cell_type": "code",
      "source": [
        "ceof = best_model.coef_.tolist()\n",
        "intercept = best_model.intercept_.tolist()\n",
        "all_coeff = [intercept] + ceof\n",
        "all_coeff\n",
        "\n",
        "all_names = ['Intercept'] + num_features\n",
        "\n",
        "### Your code here\n",
        "plt.figure(figsize=(12,8))\n",
        "ax = sns.barplot(x = all_names, y = all_coeff, alpha=0.7)\n",
        "ax.tick_params(axis='x', rotation=45)\n",
        "ax.set_xlabel(\"variables\", fontsize = 12)\n",
        "plt.title(\"Coefficients of the ElasticNet Regression Model\", fontsize=14)\n",
        "#plt.plot(X_test[:,[1]].reshape(20,), ridge_yhat, color = 'red')\n",
        "#sns.set_style('ticks')\n",
        "plt.show(fig)"
      ],
      "metadata": {
        "colab": {
          "base_uri": "https://localhost:8080/",
          "height": 550
        },
        "outputId": "386fdf80-1b8f-40e9-cc15-1b3169f1e324",
        "id": "nMuaai21Ceup"
      },
      "execution_count": 49,
      "outputs": [
        {
          "output_type": "display_data",
          "data": {
            "text/plain": [
              "<Figure size 864x576 with 1 Axes>"
            ],
            "image/png": "[encoded data removed]"
          },
          "metadata": {
            "needs_background": "light"
          }
        }
      ]
    },
    {
      "cell_type": "markdown",
      "source": [
        "The child's IQ is linearly combination of intercept and Mother's IQ variables. Child's IQ increases as mother's IQ increases."
      ],
      "metadata": {
        "id": "rcv1a5StldC3"
      }
    },
    {
      "cell_type": "markdown",
      "source": [
        "#### **Linear Regression with Mutitple Predictors (Interaction Term)**"
      ],
      "metadata": {
        "id": "KCmZXhyhmShc"
      }
    },
    {
      "cell_type": "code",
      "source": [
        "num_features = ['mother_iq', 'age', 'completed_school', 'age_*_mother_iq']\n",
        "ohe_features = ['mother_worked']\n",
        "\n",
        "all_features = num_features + ohe_features\n",
        "all_features"
      ],
      "metadata": {
        "colab": {
          "base_uri": "https://localhost:8080/"
        },
        "id": "5H_fN6Edms7i",
        "outputId": "596682d6-42ac-47f0-f811-82c67227421a"
      },
      "execution_count": 50,
      "outputs": [
        {
          "output_type": "execute_result",
          "data": {
            "text/plain": [
              "['mother_iq', 'age', 'completed_school', 'age_*_mother_iq', 'mother_worked']"
            ]
          },
          "metadata": {},
          "execution_count": 50
        }
      ]
    },
    {
      "cell_type": "code",
      "source": [
        "preprocess = make_column_transformer((StandardScaler(), num_features),\n",
        "                                      (OneHotEncoder(handle_unknown = \"ignore\"), ohe_features),\n",
        "                                      remainder = 'passthrough'\n",
        "                                     )\n",
        "pipe_lr_pure = make_pipeline(preprocess, LinearRegression())"
      ],
      "metadata": {
        "id": "iaY9n4VAu8jS"
      },
      "execution_count": 51,
      "outputs": []
    },
    {
      "cell_type": "code",
      "source": [
        "pipe_fit_lr_pure = pipe_lr_pure.fit(df_final_X_dev, df_final_y_dev)"
      ],
      "metadata": {
        "id": "Q5mHi8fPu8jU"
      },
      "execution_count": 52,
      "outputs": []
    },
    {
      "cell_type": "code",
      "source": [
        "print(f\"R2 value on Train Dataset is: { pipe_fit_lr_pure.score(df_final_X_dev, df_final_y_dev) :2f}\")\n",
        "print(f\"R2 value on Test Dataset is: { pipe_fit_lr_pure.score(df_final_X_test, df_final_y_test) :2f}\")"
      ],
      "metadata": {
        "colab": {
          "base_uri": "https://localhost:8080/"
        },
        "id": "fEF-zRPyvC-I",
        "outputId": "9b62a4b9-9819-4bcb-a2b6-e1a2d9288b4b"
      },
      "execution_count": 53,
      "outputs": [
        {
          "output_type": "stream",
          "name": "stdout",
          "text": [
            "R2 value on Train Dataset is: 0.224166\n",
            "R2 value on Test Dataset is: 0.153670\n"
          ]
        }
      ]
    },
    {
      "cell_type": "code",
      "source": [
        "print(f\"MAPE value on Train Dataset is: { mape(np.exp(pipe_fit_lr_pure.predict(df_final_X_dev)) , np.exp(df_final_y_dev)) :3f}\")\n",
        "print(f\"MAPE value on Test Dataset is: { mape(np.exp(pipe_fit_lr_pure.predict(df_final_X_test)), np.exp(df_final_y_test)) :3f}\")"
      ],
      "metadata": {
        "colab": {
          "base_uri": "https://localhost:8080/"
        },
        "id": "f7OIZaqGvEOu",
        "outputId": "4ea08ff1-d4f3-41f3-ae1c-74f81864c0d5"
      },
      "execution_count": 54,
      "outputs": [
        {
          "output_type": "stream",
          "name": "stdout",
          "text": [
            "MAPE value on Train Dataset is: 0.198880\n",
            "MAPE value on Test Dataset is: 0.200549\n"
          ]
        }
      ]
    },
    {
      "cell_type": "code",
      "source": [
        "ohe_feature_names = preprocess.named_transformers_[\"onehotencoder\"].get_feature_names().tolist()\n",
        "feature_names = num_features + ohe_feature_names \n",
        "feature_names"
      ],
      "metadata": {
        "colab": {
          "base_uri": "https://localhost:8080/"
        },
        "outputId": "fed44ee0-156d-477b-fb76-4068624507f2",
        "id": "hZUXAKHZu8jV"
      },
      "execution_count": 55,
      "outputs": [
        {
          "output_type": "execute_result",
          "data": {
            "text/plain": [
              "['mother_iq',\n",
              " 'age',\n",
              " 'completed_school',\n",
              " 'age_*_mother_iq',\n",
              " 'x0_1',\n",
              " 'x0_2',\n",
              " 'x0_3',\n",
              " 'x0_4']"
            ]
          },
          "metadata": {},
          "execution_count": 55
        }
      ]
    },
    {
      "cell_type": "code",
      "source": [
        "ceof = pipe_fit_lr_pure.named_steps['linearregression'].coef_.tolist()\n",
        "intercept = pipe_fit_lr_pure.named_steps['linearregression'].intercept_.tolist()\n",
        "all_coeff = [intercept] + ceof\n",
        "all_coeff\n",
        "\n",
        "all_names = ['Intercept'] + feature_names\n",
        "\n",
        "### Your code here\n",
        "plt.figure(figsize=(12,8))\n",
        "ax = sns.barplot(x = all_names, y = all_coeff, alpha=0.7)\n",
        "ax.tick_params(axis='x', rotation=45)\n",
        "ax.set_xlabel(\"variables\", fontsize = 12)\n",
        "plt.title(\"Coefficients of the Linear Regression Model\", fontsize=14)\n",
        "#plt.plot(X_test[:,[1]].reshape(20,), ridge_yhat, color = 'red')\n",
        "#sns.set_style('ticks')\n",
        "plt.show(fig)"
      ],
      "metadata": {
        "colab": {
          "base_uri": "https://localhost:8080/",
          "height": 578
        },
        "outputId": "5e70bb96-fe3c-4925-da93-02e82dc91b98",
        "id": "ZJJRohk3u8jV"
      },
      "execution_count": 56,
      "outputs": [
        {
          "output_type": "display_data",
          "data": {
            "text/plain": [
              "<Figure size 864x576 with 1 Axes>"
            ],
            "image/png": "[encoded data removed]"
          },
          "metadata": {
            "needs_background": "light"
          }
        }
      ]
    },
    {
      "cell_type": "markdown",
      "source": [
        "##### Tuning Elasticnet Regression for regularization"
      ],
      "metadata": {
        "id": "1R1LWdzFEHyN"
      }
    },
    {
      "cell_type": "code",
      "source": [
        "pipe_lr = make_pipeline(preprocess,\n",
        "                    GridSearchCV(ElasticNet(random_state=80),\n",
        "                                param_grid = param_grid, cv = 10)\n",
        "                    )\n",
        "\n",
        "pipe_fit_lr = pipe_lr.fit(df_final_X_dev, df_final_y_dev)\n",
        "grid_search_results_lr = pipe_lr.named_steps[\"gridsearchcv\"]\n",
        "\n",
        "print(f\"Best Score: {grid_search_results_lr.best_score_ :3f}\")\n",
        "print(f\"Best Parameters: {grid_search_results_lr.best_params_ }\")\n",
        "print(f\"Performance on Test Dataset is: {pipe_lr.score(df_final_X_test, df_final_y_test) :3f}\")\n",
        "best_model = grid_search_results_lr.best_estimator_"
      ],
      "metadata": {
        "colab": {
          "base_uri": "https://localhost:8080/"
        },
        "outputId": "d149ae4c-3500-4e3c-8436-b47aa186beb9",
        "id": "euJUMzO0DkKS"
      },
      "execution_count": 57,
      "outputs": [
        {
          "output_type": "stream",
          "name": "stdout",
          "text": [
            "Best Score: 0.111816\n",
            "Best Parameters: {'alpha': 0.01, 'l1_ratio': 0.99}\n",
            "Performance on Test Dataset is: 0.188594\n"
          ]
        }
      ]
    },
    {
      "cell_type": "code",
      "source": [
        "print(f\"R2 value on Train Dataset is: { pipe_fit_lr.score(df_final_X_dev, df_final_y_dev) :2f}\")\n",
        "print(f\"R2 value on Test Dataset is: { pipe_fit_lr.score(df_final_X_test, df_final_y_test) :2f}\")"
      ],
      "metadata": {
        "colab": {
          "base_uri": "https://localhost:8080/"
        },
        "outputId": "8469c935-044c-49c9-c1c6-0edc26bf532b",
        "id": "h-8phIezDkKT"
      },
      "execution_count": 58,
      "outputs": [
        {
          "output_type": "stream",
          "name": "stdout",
          "text": [
            "R2 value on Train Dataset is: 0.208849\n",
            "R2 value on Test Dataset is: 0.188594\n"
          ]
        }
      ]
    },
    {
      "cell_type": "code",
      "source": [
        "print(f\"MAPE value on Train Dataset is: { mape(np.exp(pipe_fit_lr.predict(df_final_X_dev)) , np.exp(df_final_y_dev)) :3f}\")\n",
        "print(f\"MAPE value on Test Dataset is: { mape(np.exp(pipe_fit_lr.predict(df_final_X_dev)), np.exp(df_final_y_test)) :3f}\")"
      ],
      "metadata": {
        "colab": {
          "base_uri": "https://localhost:8080/"
        },
        "outputId": "4682b4b6-1393-4ec8-81d0-e5f36e017265",
        "id": "dk247pjyDkKT"
      },
      "execution_count": 59,
      "outputs": [
        {
          "output_type": "stream",
          "name": "stdout",
          "text": [
            "MAPE value on Train Dataset is: 0.198891\n",
            "MAPE value on Test Dataset is: 0.058693\n"
          ]
        }
      ]
    },
    {
      "cell_type": "code",
      "source": [
        "ceof = best_model.coef_.tolist()\n",
        "intercept = best_model.intercept_.tolist()\n",
        "all_coeff = [intercept] + ceof\n",
        "all_coeff\n",
        "\n",
        "all_names = ['Intercept'] + feature_names\n",
        "\n",
        "### Your code here\n",
        "plt.figure(figsize=(12,8))\n",
        "ax = sns.barplot(x = all_names, y = all_coeff, alpha=0.7)\n",
        "ax.tick_params(axis='x', rotation=45)\n",
        "ax.set_xlabel(\"variables\", fontsize = 12)\n",
        "plt.title(\"Coefficients of the ElasticNet Regression Model\", fontsize=14)\n",
        "#plt.plot(X_test[:,[1]].reshape(20,), ridge_yhat, color = 'red')\n",
        "#sns.set_style('ticks')\n",
        "plt.show(fig)"
      ],
      "metadata": {
        "colab": {
          "base_uri": "https://localhost:8080/",
          "height": 578
        },
        "outputId": "eb9c5faf-6fdb-4416-c08a-149c276413fb",
        "id": "g_7j274UDkKT"
      },
      "execution_count": 60,
      "outputs": [
        {
          "output_type": "display_data",
          "data": {
            "text/plain": [
              "<Figure size 864x576 with 1 Axes>"
            ],
            "image/png": "[encoded data removed]"
          },
          "metadata": {
            "needs_background": "light"
          }
        }
      ]
    },
    {
      "cell_type": "markdown",
      "source": [
        "\n",
        "The child's IQ is a linear combination of 8 independent variables and intercept (including one hot encoded) variables. Child's IQ increases for variables having +ve coefficients and vice-versa. \n",
        "\n",
        "The interaction term adds multicollinearity in the dataset, which violates the assumption of linear regression. This is also evident from ElasticNet, where the coefficient of the interaction time is zero."
      ],
      "metadata": {
        "id": "HnJJa-pul4Z9"
      }
    }
  ]
}